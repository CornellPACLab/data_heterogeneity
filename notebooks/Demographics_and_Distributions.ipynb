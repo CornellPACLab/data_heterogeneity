{
 "cells": [
  {
   "cell_type": "markdown",
   "metadata": {},
   "source": [
    "# Demographics and Distributions"
   ]
  },
  {
   "cell_type": "code",
   "execution_count": 1,
   "metadata": {},
   "outputs": [
    {
     "name": "stderr",
     "output_type": "stream",
     "text": [
      "/Users/dadler/miniforge3/lib/python3.9/site-packages/outdated/utils.py:14: OutdatedPackageWarning: The package pingouin is out of date. Your version is 0.4.0, the latest is 0.5.0.\n",
      "Set the environment variable OUTDATED_IGNORE=1 to disable these warnings.\n",
      "  return warn(\n"
     ]
    }
   ],
   "source": [
    "import pandas as pd\n",
    "import numpy as np\n",
    "from importlib import reload\n",
    "import sys\n",
    "import seaborn as sns\n",
    "import matplotlib.pyplot as plt\n",
    "from matplotlib.patches import Patch\n",
    "import pingouin as pg\n",
    "import matplotlib.gridspec as gridspec"
   ]
  },
  {
   "cell_type": "code",
   "execution_count": 2,
   "metadata": {},
   "outputs": [],
   "source": [
    "sys.path.insert(0, '../code/')"
   ]
  },
  {
   "cell_type": "code",
   "execution_count": 3,
   "metadata": {},
   "outputs": [],
   "source": [
    "import util"
   ]
  },
  {
   "cell_type": "code",
   "execution_count": 4,
   "metadata": {},
   "outputs": [],
   "source": [
    "palette = sns.color_palette('tab10')[0:2]"
   ]
  },
  {
   "cell_type": "markdown",
   "metadata": {},
   "source": [
    "### Open Data"
   ]
  },
  {
   "cell_type": "code",
   "execution_count": 5,
   "metadata": {},
   "outputs": [],
   "source": [
    "crosscheck = pd.read_csv('../data/crosscheck_daily_data_cleaned_w_sameday.csv', index_col=0)"
   ]
  },
  {
   "cell_type": "code",
   "execution_count": 6,
   "metadata": {},
   "outputs": [],
   "source": [
    "studentlife = pd.read_csv('../data/studentlife_daily_data_cleaned_w_sameday_08282021.csv')"
   ]
  },
  {
   "cell_type": "markdown",
   "metadata": {},
   "source": [
    "## Prep for models"
   ]
  },
  {
   "cell_type": "markdown",
   "metadata": {},
   "source": [
    "### Get features"
   ]
  },
  {
   "cell_type": "code",
   "execution_count": 7,
   "metadata": {},
   "outputs": [],
   "source": [
    "# EMA cols\n",
    "ema_cols_crosscheck = [i for i in crosscheck.columns if 'ema' in i]\n",
    "ema_cols_studentlife = [i for i in studentlife.columns if 'ema' in i]"
   ]
  },
  {
   "cell_type": "code",
   "execution_count": 8,
   "metadata": {},
   "outputs": [],
   "source": [
    "# Behavior cols\n",
    "behavior_cols_crosscheck = [\n",
    "    i for i in crosscheck.columns if i not in ['study_id', 'eureka_id', 'date'] + ema_cols_crosscheck\n",
    "]\n",
    "\n",
    "behavior_cols_studentlife = [\n",
    "    i for i in studentlife.columns if i not in ['study_id', 'eureka_id', 'day'] + ema_cols_studentlife\n",
    "]\n",
    "\n",
    "behavior_cols = list(set(behavior_cols_crosscheck) & set(behavior_cols_studentlife))\n",
    "behavior_cols.sort()"
   ]
  },
  {
   "cell_type": "code",
   "execution_count": 9,
   "metadata": {},
   "outputs": [],
   "source": [
    "features = behavior_cols[:]"
   ]
  },
  {
   "cell_type": "markdown",
   "metadata": {},
   "source": [
    "### Clean for model training"
   ]
  },
  {
   "cell_type": "code",
   "execution_count": 10,
   "metadata": {},
   "outputs": [],
   "source": [
    "crosscheck_temp = crosscheck.copy()\n",
    "crosscheck_temp[behavior_cols] = crosscheck_temp[behavior_cols].fillna(0)\n",
    "\n",
    "features = [f for f in features if len(crosscheck_temp[f].unique()) > 1]"
   ]
  },
  {
   "cell_type": "markdown",
   "metadata": {},
   "source": [
    "#### Transform StudentLife EMA to look like CrossCheck"
   ]
  },
  {
   "cell_type": "code",
   "execution_count": 11,
   "metadata": {},
   "outputs": [],
   "source": [
    "studentlife_temp = studentlife[['study_id', 'day'] + \n",
    "    behavior_cols + ['ema_Stress_level', 'ema_Sleep_rate', 'ema_Behavior_calm', 'ema_Mood_sad', 'ema_Mood_sadornot']\n",
    "].reset_index(drop=True).copy() # TEMP FILL\n",
    "\n",
    "# Fill NA\n",
    "non_sleep_loc_cols = [i for i in behavior_cols if ('loc' not in i) and ('sleep' not in i)]\n",
    "studentlife_temp[non_sleep_loc_cols] = studentlife_temp[non_sleep_loc_cols].fillna(0)\n",
    "\n",
    "# Fill sleep with average value for that individual\n",
    "for s in studentlife_temp.study_id.unique():\n",
    "    temp = studentlife_temp.loc[studentlife_temp.study_id == s, :]\n",
    "    duration_mean = temp['sleep_duration'].mean()\n",
    "    start_mean = temp['sleep_start'].mean()\n",
    "    end_mean = temp['sleep_end'].mean()\n",
    "    ind = (studentlife_temp.study_id == s) & pd.isnull(studentlife_temp['sleep_duration'])\n",
    "    studentlife_temp.loc[ind, 'sleep_duration'] = duration_mean\n",
    "    studentlife_temp.loc[ind, 'sleep_start'] = start_mean\n",
    "    studentlife_temp.loc[ind, 'sleep_end'] = end_mean\n",
    "\n",
    "# Drop days without location (14 total) and days still w/o sleep (all IDs with no sleep info)\n",
    "studentlife_temp = studentlife_temp.dropna(subset=behavior_cols).reset_index()"
   ]
  },
  {
   "cell_type": "code",
   "execution_count": 12,
   "metadata": {},
   "outputs": [],
   "source": [
    "# Need to map all of them from 0-3\n",
    "\n",
    "# Stress [1]A little stressed, [2]Definitely stressed, [3]Stressed out, [4]Feeling good, [5]Feeling great, \n",
    "studentlife_temp['ema_STRESSED'] = studentlife_temp['ema_Stress_level'].map({\n",
    "    5:0, 4:0, 1:1, 2:2, 3:3\n",
    "})\n",
    "# Map from 0 - 3\n",
    "minimum = studentlife_temp['ema_STRESSED'].min()\n",
    "maximum = studentlife_temp['ema_STRESSED'].max()\n",
    "studentlife_temp['ema_STRESSED'] =  3 * (studentlife_temp['ema_STRESSED'] - minimum) / (maximum - minimum)\n",
    "\n",
    "\n",
    "# Sleeping [1]Very good, [2]Fairly good, [3]Fairly bad, [4]Very bad, \n",
    "# Map from 0 - 3\n",
    "studentlife_temp['ema_SLEEPING'] = 4 - studentlife_temp['ema_Sleep_rate'].round().copy()"
   ]
  },
  {
   "cell_type": "code",
   "execution_count": 13,
   "metadata": {},
   "outputs": [],
   "source": [
    "targets = ['ema_SLEEPING', 'ema_STRESSED']\n",
    "studentlife_temp['data'] = 'sl'\n",
    "crosscheck_temp['data']= 'cc'"
   ]
  },
  {
   "cell_type": "markdown",
   "metadata": {},
   "source": [
    "### Base models CV"
   ]
  },
  {
   "cell_type": "code",
   "execution_count": 17,
   "metadata": {},
   "outputs": [
    {
     "name": "stdout",
     "output_type": "stream",
     "text": [
      "1079 597 15\n",
      "median           38.0\n",
      "percentile_25    33.0\n",
      "percentile_75    48.0\n",
      "Name: study_id, dtype: float64\n"
     ]
    }
   ],
   "source": [
    "sleep_study_ids = studentlife_temp[[targets[0], 'study_id']].dropna().study_id.value_counts()\n",
    "sleep_study_ids = sleep_study_ids[sleep_study_ids >= 30]\n",
    "print(len(studentlife_temp[targets[0]].dropna()), sleep_study_ids.sum(), len(sleep_study_ids))\n",
    "print(sleep_study_ids.agg(['median', util.percentile(25), util.percentile(75)]))"
   ]
  },
  {
   "cell_type": "code",
   "execution_count": 18,
   "metadata": {},
   "outputs": [
    {
     "name": "stdout",
     "output_type": "stream",
     "text": [
      "902 307 9\n",
      "median           33.0\n",
      "percentile_25    32.0\n",
      "percentile_75    36.0\n",
      "Name: study_id, dtype: float64\n"
     ]
    }
   ],
   "source": [
    "stress_study_ids = studentlife_temp[[targets[1], 'study_id']].dropna().study_id.value_counts()\n",
    "stress_study_ids = stress_study_ids[stress_study_ids >= 30]\n",
    "print(len(studentlife_temp[targets[1]].dropna()), stress_study_ids.sum(), \n",
    "      len(stress_study_ids)) \n",
    "print(stress_study_ids.agg(['median', util.percentile(25), util.percentile(75)]))"
   ]
  },
  {
   "cell_type": "code",
   "execution_count": 20,
   "metadata": {},
   "outputs": [
    {
     "name": "stdout",
     "output_type": "stream",
     "text": [
      "5853 5665 51\n",
      "median           124.0\n",
      "percentile_25     80.0\n",
      "percentile_75    141.0\n",
      "Name: study_id, dtype: float64\n"
     ]
    }
   ],
   "source": [
    "crosscheck_study_ids = crosscheck_temp.study_id.value_counts()\n",
    "crosscheck_study_ids = crosscheck_study_ids[crosscheck_study_ids >= 30]\n",
    "print(crosscheck_temp.shape[0], crosscheck_study_ids.sum(), len(crosscheck_study_ids))\n",
    "print(crosscheck_study_ids.agg(['median', util.percentile(25), util.percentile(75)]))"
   ]
  },
  {
   "cell_type": "markdown",
   "metadata": {},
   "source": [
    "### Demographic Distributions"
   ]
  },
  {
   "cell_type": "code",
   "execution_count": 21,
   "metadata": {},
   "outputs": [
    {
     "name": "stderr",
     "output_type": "stream",
     "text": [
      "/var/folders/jz/qkzf_x696_sc2q1zjc3j7kh80000gp/T/ipykernel_74746/3419920286.py:18: SettingWithCopyWarning: \n",
      "A value is trying to be set on a copy of a slice from a DataFrame.\n",
      "Try using .loc[row_indexer,col_indexer] = value instead\n",
      "\n",
      "See the caveats in the documentation: https://pandas.pydata.org/pandas-docs/stable/user_guide/indexing.html#returning-a-view-versus-a-copy\n",
      "  cc['Dataset'] = 'CC'\n"
     ]
    }
   ],
   "source": [
    "# Get features\n",
    "features = [f for f in features if ('0' in f)]\n",
    "features = [\n",
    "    f for f in features if (f != 'act_running_ep_0') and \n",
    "    (f != 'act_walking_ep_0') and (f != 'missing_days')\n",
    "]\n",
    "features += ['sleep_start', 'sleep_end', 'missing_days']\n",
    "\n",
    "\n",
    "cc = crosscheck_temp.loc[crosscheck_temp.study_id.isin(crosscheck_study_ids.index), :]\n",
    "sl_sleep = studentlife_temp.loc[\n",
    "    studentlife_temp.study_id.isin(sleep_study_ids.index), \n",
    "    features + ['study_id', 'ema_SLEEPING']].dropna()\n",
    "sl_stress = studentlife_temp.loc[\n",
    "    studentlife_temp.study_id.isin(sleep_study_ids.index),\n",
    "    features + ['study_id', 'ema_STRESSED']].dropna()\n",
    "\n",
    "cc['Dataset'] = 'CC'\n",
    "sl_sleep['Dataset'] = 'SL: Sleep'\n",
    "sl_stress['Dataset'] = 'SL: Stress'\n",
    "cols = features + ['Dataset', 'study_id']\n",
    "data = pd.concat([cc[cols], sl_sleep[cols], sl_stress[cols]])"
   ]
  },
  {
   "cell_type": "code",
   "execution_count": 22,
   "metadata": {},
   "outputs": [],
   "source": [
    "features_dict = dict(\n",
    "    zip(features, \n",
    "    ['Activity: On Foot', 'Activity: Still', 'Activity: Unknown', 'Conversatons: Duration', \n",
    "     'Conversations: Number', 'Location: Distance', \n",
    "     'Location: Number Visited', 'Unlock: Duration',\n",
    "     'Sleep: Start', 'Sleep: End', \n",
    "     'Missing Days']\n",
    "))\n",
    "\n",
    "y_labels_dict = dict(\n",
    "    zip(features, \n",
    "    ['Hours', 'Hours', 'Hours', 'Hours', \n",
    "     'Number', 'Kilometers', 'Numbers', 'Hours',\n",
    "     '7.5 Minute Epochs\\nfrom 8PM', '7.5 Minute Epochs\\nfrom 8PM', \n",
    "     'Count']\n",
    "))"
   ]
  },
  {
   "cell_type": "code",
   "execution_count": 23,
   "metadata": {},
   "outputs": [],
   "source": [
    "data[\n",
    "    ['act_on foot_ep_0', 'act_still_ep_0', 'act_unknown_ep_0',\n",
    "     'audio_convo_duration_ep_0', 'unlock_duration_ep_0']\n",
    "] /= 3600\n",
    "data[['loc_dist_ep_0']] /= 1000\n",
    "data_melt = pd.melt(data, id_vars='Dataset', value_vars=features)"
   ]
  },
  {
   "cell_type": "code",
   "execution_count": 24,
   "metadata": {},
   "outputs": [],
   "source": [
    "temp = data_melt.loc[data_melt.variable == 'missing_days', :]"
   ]
  },
  {
   "cell_type": "code",
   "execution_count": 31,
   "metadata": {
    "scrolled": false
   },
   "outputs": [
    {
     "name": "stdout",
     "output_type": "stream",
     "text": [
      "act_on foot_ep_0 SL: Sleep Normality 0.0 Test stat: 0.0 0.71\n",
      "act_on foot_ep_0 SL: Stress Normality 0.0 Test stat: 0.0 0.7\n",
      "act_still_ep_0 SL: Sleep Normality 0.0 Test stat: 0.0 -0.1\n",
      "act_still_ep_0 SL: Stress Normality 0.0 Test stat: 0.01 -0.07\n",
      "act_unknown_ep_0 SL: Sleep Normality 0.0 Test stat: 0.0 0.2\n",
      "act_unknown_ep_0 SL: Stress Normality 0.0 Test stat: 0.0 0.18\n",
      "audio_convo_duration_ep_0 SL: Sleep Normality 0.0 Test stat: 0.0 0.43\n",
      "audio_convo_duration_ep_0 SL: Stress Normality 0.0 Test stat: 0.0 0.39\n",
      "audio_convo_num_ep_0 SL: Sleep Normality 0.0 Test stat: 0.0 0.51\n",
      "audio_convo_num_ep_0 SL: Stress Normality 0.0 Test stat: 0.0 0.5\n",
      "loc_dist_ep_0 SL: Sleep Normality 0.0 Test stat: 0.82 -0.01\n",
      "loc_dist_ep_0 SL: Stress Normality 0.0 Test stat: 0.18 -0.04\n",
      "loc_visit_num_ep_0 SL: Sleep Normality 0.0 Test stat: 0.0 0.92\n",
      "loc_visit_num_ep_0 SL: Stress Normality 0.0 Test stat: 0.0 0.9\n",
      "unlock_duration_ep_0 SL: Sleep Normality 0.0 Test stat: 0.0 0.89\n",
      "unlock_duration_ep_0 SL: Stress Normality 0.0 Test stat: 0.0 0.88\n",
      "sleep_start SL: Sleep Normality 0.0 Test stat: 0.0 0.47\n",
      "sleep_start SL: Stress Normality 0.0 Test stat: 0.0 0.49\n",
      "sleep_end SL: Sleep Normality 0.0 Test stat: 0.01 0.06\n",
      "sleep_end SL: Stress Normality 0.0 Test stat: 0.0 0.09\n"
     ]
    },
    {
     "name": "stderr",
     "output_type": "stream",
     "text": [
      "/Users/dadler/miniforge3/lib/python3.9/site-packages/pingouin/contingency.py:151: UserWarning: Low count on expected frequencies.\n",
      "  warnings.warn('Low count on {} frequencies.'.format(name))\n"
     ]
    },
    {
     "data": {
      "image/png": "[encoded data removed]",
      "text/plain": [
       "<Figure size 1080x720 with 11 Axes>"
      ]
     },
     "metadata": {
      "needs_background": "light"
     },
     "output_type": "display_data"
    }
   ],
   "source": [
    "fig = plt.figure(figsize=(15, 10))\n",
    "curr = 1\n",
    "\n",
    "gs = gridspec.GridSpec(ncols=8, nrows=3, figure=fig)\n",
    "\n",
    "curr_row = 0\n",
    "curr_col_start = 0\n",
    "curr_col_end = 2\n",
    "\n",
    "for f in features:\n",
    "    ax = fig.add_subplot(gs[curr_row, curr_col_start:curr_col_end])\n",
    "    \n",
    "    if f != 'missing_days':\n",
    "        temp = data_melt.loc[data_melt.variable == f, :]\n",
    "        ax = sns.boxplot(data=temp, x='Dataset', y='value', flierprops={'marker': '.'})\n",
    "        plt.xlabel('')\n",
    "        # Run paired test\n",
    "        x_tick = 1\n",
    "        max_val = temp['value'].max()\n",
    "        min_val = temp['value'].min()\n",
    "        inc = (max_val - min_val) / 20\n",
    "        plt.ylim(ymax=max_val + inc * 8)\n",
    "        for y in ['SL: Sleep', 'SL: Stress']:\n",
    "            test_res = util.non_paired_test(\n",
    "                x=list(temp.loc[temp.Dataset == 'CC', 'value']), \n",
    "                y=list(temp.loc[temp.Dataset == y, 'value'])\n",
    "            )\n",
    "            print(f, y, 'Normality', np.round(test_res[1][1], 2), 'Test stat:', \n",
    "                  np.round(test_res[0].loc['MWU', 'p-val'], 2), \n",
    "                  np.round(test_res[0].loc['MWU', 'RBC'], 2))\n",
    "            p_val = test_res[0].iloc[0, :]['p-val']\n",
    "            rbc = test_res[0].iloc[0, :]['RBC']\n",
    "            text = str(np.round(rbc, 2))\n",
    "            text += '0' * (2 - len(text.split('.')[1]))\n",
    "            plt.text(x=x_tick - 0.25, y=max_val + inc * 5, s=text)\n",
    "            if p_val < .05:\n",
    "                plt.text(x=x_tick - 0.105, y=max_val + inc, s='✶', size=12)\n",
    "            x_tick += 1\n",
    "            \n",
    "    else:\n",
    "        temp = data.groupby(['Dataset', 'missing_days'], as_index=False)['study_id'].count()\n",
    "        temp_nonzero = temp.loc[temp.missing_days > 0, :]\n",
    "        ax = sns.barplot(data=temp_nonzero, x='Dataset', y='study_id', hue='missing_days')\n",
    "        # Tests\n",
    "        temp_test = data_melt.loc[(data_melt.variable == f), :]\n",
    "        crosstab = pd.crosstab(temp_test['Dataset'], temp_test['value'])\n",
    "        max_val = crosstab[[1, 2]].max().max()\n",
    "        min_val = crosstab[[1, 2]].min().max()\n",
    "        inc = (max_val - min_val) / 20\n",
    "        plt.ylim(ymax=max_val + inc * 15)\n",
    "        x_tick = 1\n",
    "        for y in ['SL: Sleep', 'SL: Stress']:\n",
    "            stats = pg.chi2_independence(\n",
    "                temp_test.loc[temp_test.Dataset.isin(['CC', y]), :], \n",
    "                x='Dataset', y='value')[2].loc[0]\n",
    "            p_val = stats.loc['pval']\n",
    "            cramer = stats.loc['cramer']\n",
    "            text = str(np.round(cramer, 2))\n",
    "            text += '0' * (2 - len(text.split('.')[1]))\n",
    "            plt.text(x=x_tick - 0.25, y=max_val + inc * 7, s=text)\n",
    "            if p_val < .05:\n",
    "                plt.text(x=x_tick - 0.105, y=max_val + inc, s='✶', size=12)\n",
    "            x_tick += 1\n",
    "        plt.xlabel('')\n",
    "        ax.get_legend().remove()\n",
    "        plt.xticks(ticks=[0, 1, 2], labels=['1    2\\n\\nS', '1    2\\n\\nT: Sleep', \n",
    "                                            '1    2\\n\\nT: Stress'])\n",
    "        \n",
    "    plt.ylabel(y_labels_dict[f])\n",
    "    plt.title(features_dict[f])\n",
    "    \n",
    "    curr_col_start += 2\n",
    "    curr_col_end += 2\n",
    "    \n",
    "    if curr_col_start >= 8:\n",
    "        if curr_row == 0:\n",
    "            curr_col_start = 0\n",
    "            curr_col_end = 2\n",
    "        else:\n",
    "            curr_col_start = 1\n",
    "            curr_col_end = 3\n",
    "    \n",
    "        curr_row += 1\n",
    "    \n",
    "sns.despine()\n",
    "plt.tight_layout(pad=2)"
   ]
  },
  {
   "cell_type": "code",
   "execution_count": 32,
   "metadata": {},
   "outputs": [],
   "source": [
    "sleep_test = util.non_paired_test(\n",
    "        x=list(cc['ema_SLEEPING']), \n",
    "        y=list(sl_sleep['ema_SLEEPING']), \n",
    ")\n",
    "sleep_p_val = sleep_test[0].iloc[0, :]['p-val']\n",
    "sleep_rbc = sleep_test[0].iloc[0, :]['RBC']\n",
    "sleep_text = '$RBC=' + str(np.round(sleep_rbc, 2)) + '$'\n",
    "sleep_text += '0' * (2 - len(sleep_text.split('.')[1]))\n",
    "if sleep_p_val < .05:\n",
    "    sleep_text += '\\n✶'\n",
    "\n",
    "\n",
    "stress_test = util.non_paired_test(\n",
    "        x=list(cc['ema_STRESSED']), \n",
    "        y=list(sl_stress['ema_STRESSED']), \n",
    ")\n",
    "stress_p_val = stress_test[0].iloc[0, :]['p-val']\n",
    "stress_rbc = stress_test[0].iloc[0, :]['RBC']\n",
    "stress_text = '$RBC=' + str(np.round(stress_rbc, 2)) + '$'\n",
    "stress_text += '0' * (2 - len(stress_text.split('.')[1]))\n",
    "if stress_p_val < .05:\n",
    "    stress_text += '\\n✶'"
   ]
  },
  {
   "cell_type": "code",
   "execution_count": 44,
   "metadata": {},
   "outputs": [
    {
     "data": {
      "text/plain": [
       "('Sleep', 'P-val', 0.003, 'RBC', -0.07)"
      ]
     },
     "execution_count": 44,
     "metadata": {},
     "output_type": "execute_result"
    }
   ],
   "source": [
    "'Sleep', 'P-val', sleep_test[0].loc['MWU', 'p-val'].round(3), \\\n",
    "    'RBC', sleep_test[0].loc['MWU', 'RBC'].round(2)"
   ]
  },
  {
   "cell_type": "code",
   "execution_count": 43,
   "metadata": {},
   "outputs": [
    {
     "data": {
      "text/plain": [
       "('Stress', 'P-val', 0.0, 'RBC', 0.37)"
      ]
     },
     "execution_count": 43,
     "metadata": {},
     "output_type": "execute_result"
    }
   ],
   "source": [
    "'Stress', 'P-val', stress_test[0].loc['MWU', 'p-val'].round(3), \\\n",
    "    'RBC', stress_test[0].loc['MWU', 'RBC'].round(2)"
   ]
  },
  {
   "cell_type": "code",
   "execution_count": 45,
   "metadata": {},
   "outputs": [
    {
     "name": "stderr",
     "output_type": "stream",
     "text": [
      "/Users/dadler/miniforge3/lib/python3.9/site-packages/seaborn/distributions.py:2619: FutureWarning: `distplot` is a deprecated function and will be removed in a future version. Please adapt your code to use either `displot` (a figure-level function with similar flexibility) or `histplot` (an axes-level function for histograms).\n",
      "  warnings.warn(msg, FutureWarning)\n"
     ]
    },
    {
     "data": {
      "image/png": "[encoded data removed]",
      "text/plain": [
       "<Figure size 1080x360 with 4 Axes>"
      ]
     },
     "metadata": {
      "needs_background": "light"
     },
     "output_type": "display_data"
    }
   ],
   "source": [
    "# Plot loss\n",
    "plt.figure(figsize=(15, 5))\n",
    "\n",
    "plt.subplot(2, 2, 1)\n",
    "ax = sns.distplot(cc['ema_SLEEPING'] + 1, kde=False, bins=4,\n",
    "                 hist_kws={\"rwidth\":0.75,'edgecolor':'black', 'alpha':1.0})\n",
    "sns.despine()\n",
    "plt.title('CC: Have you been SLEEPING well?', size=16)\n",
    "mids = [rect.get_x() + rect.get_width() / 2 for rect in ax.patches]\n",
    "plt.xticks(mids, labels=['Not at all', 'A little', 'Moderately', 'Extremely'], size=14)\n",
    "plt.xlabel('')\n",
    "plt.ylabel('Frequency', size=14, labelpad=10)\n",
    "\n",
    "plt.subplot(2, 2, 2)\n",
    "ax = sns.distplot(cc['ema_STRESSED'], kde=False, bins=4,\n",
    "            hist_kws={\"rwidth\":0.75,'edgecolor':'black', 'alpha':1.0})\n",
    "sns.despine()\n",
    "plt.title('CC: Have you been feeling STRESSED?', size=16)\n",
    "mids = [rect.get_x() + rect.get_width() / 2 for rect in ax.patches]\n",
    "plt.xticks(mids, labels=['Not at all', 'A little', 'Moderately', 'Extremely'], size=14)\n",
    "plt.xlabel('')\n",
    "plt.ylabel('Frequency', size=14, labelpad=10)\n",
    "\n",
    "plt.subplot(2, 2, 3)\n",
    "ax = sns.distplot(sl_sleep['ema_SLEEPING'], kde=False, bins=4,\n",
    "            hist_kws={\"rwidth\":0.75,'edgecolor':'black', 'alpha':1.0})\n",
    "sns.despine()\n",
    "plt.title('SL: How would you rate your overall sleep last night?', size=16)\n",
    "mids = [rect.get_x() + rect.get_width() / 2 for rect in ax.patches]\n",
    "plt.xticks(mids, labels=['Very bad', 'Fairly bad', 'Fairly good', 'Very good'], size=14)\n",
    "plt.xlabel(sleep_text, size=16, labelpad=20)\n",
    "plt.ylabel('Frequency', size=14, labelpad=10)\n",
    "\n",
    "plt.subplot(2, 2, 4)\n",
    "ax = sns.distplot(sl_stress['ema_STRESSED'], kde=False, bins=4,\n",
    "            hist_kws={\"rwidth\":0.75,'edgecolor':'black', 'alpha':1.0})\n",
    "sns.despine()\n",
    "plt.title('SL: Right now, I am...', size=16)\n",
    "mids = [rect.get_x() + rect.get_width() / 2 for rect in ax.patches]\n",
    "plt.xticks(mids, size=14,\n",
    "           labels=['Feeling great/good', 'A little', 'Definitely', 'Stressed out']\n",
    "          )\n",
    "plt.xlabel(stress_text, size=16, labelpad=20)\n",
    "plt.ylabel('Frequency', size=14, labelpad=10)\n",
    "\n",
    "plt.tight_layout(h_pad=5)\n",
    "# plt.savefig('../figs/loso_ema_hist_01182020.png', dpi=300)"
   ]
  },
  {
   "cell_type": "code",
   "execution_count": 60,
   "metadata": {},
   "outputs": [
    {
     "name": "stdout",
     "output_type": "stream",
     "text": [
      "CrossCheck EMA stats\n",
      "               ema_SLEEPING  ema_STRESSED\n",
      "median                  2.0           1.0\n",
      "percentile_25           2.0           0.0\n",
      "percentile_75           3.0           1.0\n",
      "\n",
      "CrossCheck binary sleep counts\n",
      "0    4425\n",
      "1    1240\n",
      "Name: ema_SLEEPING, dtype: int64\n",
      "\n",
      "CrossCheck binary sleep normalized\n",
      "0    0.781112\n",
      "1    0.218888\n",
      "Name: ema_SLEEPING, dtype: float64\n",
      "\n",
      "CrossCheck binary stress counts\n",
      "1    4373\n",
      "0    1292\n",
      "Name: ema_STRESSED, dtype: int64\n",
      "\n",
      "CrossCheck binary stress normalized\n",
      "1    0.771933\n",
      "0    0.228067\n",
      "Name: ema_STRESSED, dtype: float64\n"
     ]
    }
   ],
   "source": [
    "print('CrossCheck EMA stats')\n",
    "print(\n",
    "    cc[['ema_SLEEPING', 'ema_STRESSED']].agg(['median', util.percentile(25), \n",
    "                                              util.percentile(75)]))\n",
    "\n",
    "print()\n",
    "print('CrossCheck binary sleep counts')\n",
    "print(cc['ema_SLEEPING'].map({3:0, 2:0, 1:1, 0:1}).value_counts())\n",
    "\n",
    "print()\n",
    "print('CrossCheck binary sleep normalized')\n",
    "print(cc['ema_SLEEPING'].map({3:0, 2:0, 1:1, 0:1}).value_counts(normalize=True))\n",
    "\n",
    "print()\n",
    "print('CrossCheck binary stress counts')\n",
    "print(cc['ema_STRESSED'].map({3:0, 2:0, 1:1, 0:1}).value_counts())\n",
    "\n",
    "print()\n",
    "print('CrossCheck binary stress normalized')\n",
    "print(cc['ema_STRESSED'].map({3:0, 2:0, 1:1, 0:1}).value_counts(normalize=True))"
   ]
  },
  {
   "cell_type": "code",
   "execution_count": 61,
   "metadata": {},
   "outputs": [
    {
     "name": "stdout",
     "output_type": "stream",
     "text": [
      "StudentLife Sleep EMA stats\n",
      "               ema_SLEEPING\n",
      "median                  2.0\n",
      "percentile_25           2.0\n",
      "percentile_75           3.0\n",
      "\n",
      "StudentLife binary sleep counts\n",
      "0    471\n",
      "1    126\n",
      "Name: ema_SLEEPING, dtype: int64\n",
      "\n",
      "StudentLife binary sleep normalized\n",
      "0    0.788945\n",
      "1    0.211055\n",
      "Name: ema_SLEEPING, dtype: float64\n",
      "\n",
      "StudentLife Stress EMA stats\n",
      "               ema_STRESSED\n",
      "median                  1.0\n",
      "percentile_25           1.0\n",
      "percentile_75           2.0\n",
      "\n",
      "StudentLife binary stress counts\n",
      "1    263\n",
      "0    200\n",
      "Name: ema_STRESSED, dtype: int64\n",
      "\n",
      "StudentLife binary stress normalized\n",
      "1    0.568035\n",
      "0    0.431965\n",
      "Name: ema_STRESSED, dtype: float64\n"
     ]
    }
   ],
   "source": [
    "print('StudentLife Sleep EMA stats')\n",
    "print(\n",
    "    sl_sleep[['ema_SLEEPING']].agg(['median', util.percentile(25), \n",
    "                                              util.percentile(75)]))\n",
    "print()\n",
    "print('StudentLife binary sleep counts')\n",
    "print(sl_sleep['ema_SLEEPING'].map({3:0, 2:0, 1:1, 0:1}).value_counts())\n",
    "\n",
    "print()\n",
    "print('StudentLife binary sleep normalized')\n",
    "print(sl_sleep['ema_SLEEPING'].map({3:0, 2:0, 1:1, 0:1}).value_counts(normalize=True))\n",
    "\n",
    "print()\n",
    "print('StudentLife Stress EMA stats')\n",
    "print(\n",
    "    sl_stress[['ema_STRESSED']].agg(['median', util.percentile(25), \n",
    "                                              util.percentile(75)]))\n",
    "\n",
    "print()\n",
    "print('StudentLife binary stress counts')\n",
    "print(sl_stress['ema_STRESSED'].map({3:0, 2:0, 1:1, 0:1}).value_counts())\n",
    "\n",
    "print()\n",
    "print('StudentLife binary stress normalized')\n",
    "print(sl_stress['ema_STRESSED'].map({3:0, 2:0, 1:1, 0:1}).value_counts(normalize=True))"
   ]
  }
 ],
 "metadata": {
  "kernelspec": {
   "display_name": "Python 3 (ipykernel)",
   "language": "python",
   "name": "python3"
  },
  "language_info": {
   "codemirror_mode": {
    "name": "ipython",
    "version": 3
   },
   "file_extension": ".py",
   "mimetype": "text/x-python",
   "name": "python",
   "nbconvert_exporter": "python",
   "pygments_lexer": "ipython3",
   "version": "3.9.7"
  }
 },
 "nbformat": 4,
 "nbformat_minor": 2
}
